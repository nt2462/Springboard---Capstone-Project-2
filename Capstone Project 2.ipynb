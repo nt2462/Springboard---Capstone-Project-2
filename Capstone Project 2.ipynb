{
 "cells": [
  {
   "cell_type": "code",
   "execution_count": 1,
   "metadata": {
    "collapsed": true
   },
   "outputs": [],
   "source": [
    "import pandas as pd\n",
    "import numpy as np\n",
    "import matplotlib.pyplot as plt\n",
    "import seaborn as sns"
   ]
  },
  {
   "cell_type": "code",
   "execution_count": 2,
   "metadata": {
    "collapsed": true
   },
   "outputs": [],
   "source": [
    "wine = pd.read_csv('winemag-data-130k-v2.csv')"
   ]
  },
  {
   "cell_type": "code",
   "execution_count": 3,
   "metadata": {},
   "outputs": [
    {
     "data": {
      "text/html": [
       "<div>\n",
       "<style>\n",
       "    .dataframe thead tr:only-child th {\n",
       "        text-align: right;\n",
       "    }\n",
       "\n",
       "    .dataframe thead th {\n",
       "        text-align: left;\n",
       "    }\n",
       "\n",
       "    .dataframe tbody tr th {\n",
       "        vertical-align: top;\n",
       "    }\n",
       "</style>\n",
       "<table border=\"1\" class=\"dataframe\">\n",
       "  <thead>\n",
       "    <tr style=\"text-align: right;\">\n",
       "      <th></th>\n",
       "      <th>Unnamed: 0</th>\n",
       "      <th>country</th>\n",
       "      <th>description</th>\n",
       "      <th>designation</th>\n",
       "      <th>points</th>\n",
       "      <th>price</th>\n",
       "      <th>province</th>\n",
       "      <th>region_1</th>\n",
       "      <th>region_2</th>\n",
       "      <th>taster_name</th>\n",
       "      <th>taster_twitter_handle</th>\n",
       "      <th>title</th>\n",
       "      <th>variety</th>\n",
       "      <th>winery</th>\n",
       "    </tr>\n",
       "  </thead>\n",
       "  <tbody>\n",
       "    <tr>\n",
       "      <th>0</th>\n",
       "      <td>0</td>\n",
       "      <td>Italy</td>\n",
       "      <td>Aromas include tropical fruit, broom, brimston...</td>\n",
       "      <td>Vulkà Bianco</td>\n",
       "      <td>87</td>\n",
       "      <td>NaN</td>\n",
       "      <td>Sicily &amp; Sardinia</td>\n",
       "      <td>Etna</td>\n",
       "      <td>NaN</td>\n",
       "      <td>Kerin O’Keefe</td>\n",
       "      <td>@kerinokeefe</td>\n",
       "      <td>Nicosia 2013 Vulkà Bianco  (Etna)</td>\n",
       "      <td>White Blend</td>\n",
       "      <td>Nicosia</td>\n",
       "    </tr>\n",
       "    <tr>\n",
       "      <th>1</th>\n",
       "      <td>1</td>\n",
       "      <td>Portugal</td>\n",
       "      <td>This is ripe and fruity, a wine that is smooth...</td>\n",
       "      <td>Avidagos</td>\n",
       "      <td>87</td>\n",
       "      <td>15.0</td>\n",
       "      <td>Douro</td>\n",
       "      <td>NaN</td>\n",
       "      <td>NaN</td>\n",
       "      <td>Roger Voss</td>\n",
       "      <td>@vossroger</td>\n",
       "      <td>Quinta dos Avidagos 2011 Avidagos Red (Douro)</td>\n",
       "      <td>Portuguese Red</td>\n",
       "      <td>Quinta dos Avidagos</td>\n",
       "    </tr>\n",
       "  </tbody>\n",
       "</table>\n",
       "</div>"
      ],
      "text/plain": [
       "   Unnamed: 0   country                                        description  \\\n",
       "0           0     Italy  Aromas include tropical fruit, broom, brimston...   \n",
       "1           1  Portugal  This is ripe and fruity, a wine that is smooth...   \n",
       "\n",
       "    designation  points  price           province region_1 region_2  \\\n",
       "0  Vulkà Bianco      87    NaN  Sicily & Sardinia     Etna      NaN   \n",
       "1      Avidagos      87   15.0              Douro      NaN      NaN   \n",
       "\n",
       "     taster_name taster_twitter_handle  \\\n",
       "0  Kerin O’Keefe          @kerinokeefe   \n",
       "1     Roger Voss            @vossroger   \n",
       "\n",
       "                                           title         variety  \\\n",
       "0              Nicosia 2013 Vulkà Bianco  (Etna)     White Blend   \n",
       "1  Quinta dos Avidagos 2011 Avidagos Red (Douro)  Portuguese Red   \n",
       "\n",
       "                winery  \n",
       "0              Nicosia  \n",
       "1  Quinta dos Avidagos  "
      ]
     },
     "execution_count": 3,
     "metadata": {},
     "output_type": "execute_result"
    }
   ],
   "source": [
    "wine.head(2)"
   ]
  },
  {
   "cell_type": "markdown",
   "metadata": {},
   "source": [
    "# Data Cleaning"
   ]
  },
  {
   "cell_type": "code",
   "execution_count": 4,
   "metadata": {},
   "outputs": [
    {
     "data": {
      "text/plain": [
       "Unnamed: 0                   0\n",
       "country                     63\n",
       "description                  0\n",
       "designation              37465\n",
       "points                       0\n",
       "price                     8996\n",
       "province                    63\n",
       "region_1                 21247\n",
       "region_2                 79460\n",
       "taster_name              26244\n",
       "taster_twitter_handle    31213\n",
       "title                        0\n",
       "variety                      1\n",
       "winery                       0\n",
       "dtype: int64"
      ]
     },
     "execution_count": 4,
     "metadata": {},
     "output_type": "execute_result"
    }
   ],
   "source": [
    "#check for missing values:\n",
    "wine.isnull().sum()"
   ]
  },
  {
   "cell_type": "markdown",
   "metadata": {},
   "source": [
    "We can see that the data seems to have a lot of missing values."
   ]
  },
  {
   "cell_type": "code",
   "execution_count": 5,
   "metadata": {
    "collapsed": true
   },
   "outputs": [],
   "source": [
    "#check for duplicates:\n",
    "duplicates = wine[wine.duplicated('description',keep=False)].sort_values('description')"
   ]
  },
  {
   "cell_type": "code",
   "execution_count": 6,
   "metadata": {},
   "outputs": [
    {
     "data": {
      "text/html": [
       "<div>\n",
       "<style>\n",
       "    .dataframe thead tr:only-child th {\n",
       "        text-align: right;\n",
       "    }\n",
       "\n",
       "    .dataframe thead th {\n",
       "        text-align: left;\n",
       "    }\n",
       "\n",
       "    .dataframe tbody tr th {\n",
       "        vertical-align: top;\n",
       "    }\n",
       "</style>\n",
       "<table border=\"1\" class=\"dataframe\">\n",
       "  <thead>\n",
       "    <tr style=\"text-align: right;\">\n",
       "      <th></th>\n",
       "      <th>Unnamed: 0</th>\n",
       "      <th>country</th>\n",
       "      <th>description</th>\n",
       "      <th>designation</th>\n",
       "      <th>points</th>\n",
       "      <th>price</th>\n",
       "      <th>province</th>\n",
       "      <th>region_1</th>\n",
       "      <th>region_2</th>\n",
       "      <th>taster_name</th>\n",
       "      <th>taster_twitter_handle</th>\n",
       "      <th>title</th>\n",
       "      <th>variety</th>\n",
       "      <th>winery</th>\n",
       "    </tr>\n",
       "  </thead>\n",
       "  <tbody>\n",
       "    <tr>\n",
       "      <th>67614</th>\n",
       "      <td>67614</td>\n",
       "      <td>US</td>\n",
       "      <td>100% Malbec, it's redolent with dark plums, wi...</td>\n",
       "      <td>NaN</td>\n",
       "      <td>87</td>\n",
       "      <td>20.0</td>\n",
       "      <td>Washington</td>\n",
       "      <td>Rattlesnake Hills</td>\n",
       "      <td>Columbia Valley</td>\n",
       "      <td>Sean P. Sullivan</td>\n",
       "      <td>@wawinereport</td>\n",
       "      <td>Roza Ridge 2010 Malbec (Rattlesnake Hills)</td>\n",
       "      <td>Malbec</td>\n",
       "      <td>Roza Ridge</td>\n",
       "    </tr>\n",
       "    <tr>\n",
       "      <th>46540</th>\n",
       "      <td>46540</td>\n",
       "      <td>US</td>\n",
       "      <td>100% Malbec, it's redolent with dark plums, wi...</td>\n",
       "      <td>NaN</td>\n",
       "      <td>87</td>\n",
       "      <td>20.0</td>\n",
       "      <td>Washington</td>\n",
       "      <td>Rattlesnake Hills</td>\n",
       "      <td>Columbia Valley</td>\n",
       "      <td>Sean P. Sullivan</td>\n",
       "      <td>@wawinereport</td>\n",
       "      <td>Roza Ridge 2010 Malbec (Rattlesnake Hills)</td>\n",
       "      <td>Malbec</td>\n",
       "      <td>Roza Ridge</td>\n",
       "    </tr>\n",
       "    <tr>\n",
       "      <th>119702</th>\n",
       "      <td>119702</td>\n",
       "      <td>US</td>\n",
       "      <td>100% Sangiovese, this pale pink wine has notes...</td>\n",
       "      <td>Meadow</td>\n",
       "      <td>88</td>\n",
       "      <td>18.0</td>\n",
       "      <td>Washington</td>\n",
       "      <td>Columbia Valley (WA)</td>\n",
       "      <td>Columbia Valley</td>\n",
       "      <td>Sean P. Sullivan</td>\n",
       "      <td>@wawinereport</td>\n",
       "      <td>Ross Andrew 2013 Meadow Rosé (Columbia Valley ...</td>\n",
       "      <td>Rosé</td>\n",
       "      <td>Ross Andrew</td>\n",
       "    </tr>\n",
       "    <tr>\n",
       "      <th>72181</th>\n",
       "      <td>72181</td>\n",
       "      <td>US</td>\n",
       "      <td>100% Sangiovese, this pale pink wine has notes...</td>\n",
       "      <td>Meadow</td>\n",
       "      <td>88</td>\n",
       "      <td>18.0</td>\n",
       "      <td>Washington</td>\n",
       "      <td>Columbia Valley (WA)</td>\n",
       "      <td>Columbia Valley</td>\n",
       "      <td>Sean P. Sullivan</td>\n",
       "      <td>@wawinereport</td>\n",
       "      <td>Ross Andrew 2013 Meadow Rosé (Columbia Valley ...</td>\n",
       "      <td>Rosé</td>\n",
       "      <td>Ross Andrew</td>\n",
       "    </tr>\n",
       "    <tr>\n",
       "      <th>73731</th>\n",
       "      <td>73731</td>\n",
       "      <td>France</td>\n",
       "      <td>87-89 Barrel sample. A pleasurable, perfumed w...</td>\n",
       "      <td>Barrel sample</td>\n",
       "      <td>88</td>\n",
       "      <td>NaN</td>\n",
       "      <td>Bordeaux</td>\n",
       "      <td>Saint-Julien</td>\n",
       "      <td>NaN</td>\n",
       "      <td>Roger Voss</td>\n",
       "      <td>@vossroger</td>\n",
       "      <td>Château Lalande-Borie 2008 Barrel sample  (Sai...</td>\n",
       "      <td>Bordeaux-style Red Blend</td>\n",
       "      <td>Château Lalande-Borie</td>\n",
       "    </tr>\n",
       "  </tbody>\n",
       "</table>\n",
       "</div>"
      ],
      "text/plain": [
       "        Unnamed: 0 country                                        description  \\\n",
       "67614        67614      US  100% Malbec, it's redolent with dark plums, wi...   \n",
       "46540        46540      US  100% Malbec, it's redolent with dark plums, wi...   \n",
       "119702      119702      US  100% Sangiovese, this pale pink wine has notes...   \n",
       "72181        72181      US  100% Sangiovese, this pale pink wine has notes...   \n",
       "73731        73731  France  87-89 Barrel sample. A pleasurable, perfumed w...   \n",
       "\n",
       "          designation  points  price    province              region_1  \\\n",
       "67614             NaN      87   20.0  Washington     Rattlesnake Hills   \n",
       "46540             NaN      87   20.0  Washington     Rattlesnake Hills   \n",
       "119702         Meadow      88   18.0  Washington  Columbia Valley (WA)   \n",
       "72181          Meadow      88   18.0  Washington  Columbia Valley (WA)   \n",
       "73731   Barrel sample      88    NaN    Bordeaux          Saint-Julien   \n",
       "\n",
       "               region_2       taster_name taster_twitter_handle  \\\n",
       "67614   Columbia Valley  Sean P. Sullivan         @wawinereport   \n",
       "46540   Columbia Valley  Sean P. Sullivan         @wawinereport   \n",
       "119702  Columbia Valley  Sean P. Sullivan         @wawinereport   \n",
       "72181   Columbia Valley  Sean P. Sullivan         @wawinereport   \n",
       "73731               NaN        Roger Voss            @vossroger   \n",
       "\n",
       "                                                    title  \\\n",
       "67614          Roza Ridge 2010 Malbec (Rattlesnake Hills)   \n",
       "46540          Roza Ridge 2010 Malbec (Rattlesnake Hills)   \n",
       "119702  Ross Andrew 2013 Meadow Rosé (Columbia Valley ...   \n",
       "72181   Ross Andrew 2013 Meadow Rosé (Columbia Valley ...   \n",
       "73731   Château Lalande-Borie 2008 Barrel sample  (Sai...   \n",
       "\n",
       "                         variety                 winery  \n",
       "67614                     Malbec             Roza Ridge  \n",
       "46540                     Malbec             Roza Ridge  \n",
       "119702                      Rosé            Ross Andrew  \n",
       "72181                       Rosé            Ross Andrew  \n",
       "73731   Bordeaux-style Red Blend  Château Lalande-Borie  "
      ]
     },
     "execution_count": 6,
     "metadata": {},
     "output_type": "execute_result"
    }
   ],
   "source": [
    "duplicates.head()"
   ]
  },
  {
   "cell_type": "code",
   "execution_count": 7,
   "metadata": {},
   "outputs": [
    {
     "name": "stdout",
     "output_type": "stream",
     "text": [
      "Number of duplicates: 20026\n"
     ]
    }
   ],
   "source": [
    "print('Number of duplicates:',len(duplicates))"
   ]
  },
  {
   "cell_type": "markdown",
   "metadata": {},
   "source": [
    "Since there are a lot of duplicates in the data, we would have to remove all of them."
   ]
  },
  {
   "cell_type": "code",
   "execution_count": 8,
   "metadata": {
    "collapsed": true
   },
   "outputs": [],
   "source": [
    "wine2 = wine.drop_duplicates('description')"
   ]
  },
  {
   "cell_type": "code",
   "execution_count": 9,
   "metadata": {},
   "outputs": [
    {
     "data": {
      "text/plain": [
       "119955"
      ]
     },
     "execution_count": 9,
     "metadata": {},
     "output_type": "execute_result"
    }
   ],
   "source": [
    "len(wine2)"
   ]
  },
  {
   "cell_type": "code",
   "execution_count": 10,
   "metadata": {},
   "outputs": [
    {
     "data": {
      "text/plain": [
       "Unnamed: 0                   0\n",
       "country                     59\n",
       "description                  0\n",
       "designation              34532\n",
       "points                       0\n",
       "price                     8388\n",
       "province                    59\n",
       "region_1                 19558\n",
       "region_2                 73195\n",
       "taster_name              24912\n",
       "taster_twitter_handle    29441\n",
       "title                        0\n",
       "variety                      1\n",
       "winery                       0\n",
       "dtype: int64"
      ]
     },
     "execution_count": 10,
     "metadata": {},
     "output_type": "execute_result"
    }
   ],
   "source": [
    "#check for missing values in wine2:\n",
    "wine2.isnull().sum()"
   ]
  },
  {
   "cell_type": "markdown",
   "metadata": {},
   "source": [
    "# Handling Missing Values and Exploratory Data Analysis"
   ]
  },
  {
   "cell_type": "markdown",
   "metadata": {},
   "source": [
    "Country: \n",
    "For missing countries, I would replace them with unknown to prevent any misunderstanding.\n",
    "\n",
    "Price:\n",
    "Since some wine have missing values, I would evaluate several factors that might have some relationship with price and fill in missing prices based on information on other prices.\n",
    "\n",
    "Region1:\n",
    "For region1 that are missing, I would change it to unknown.\n",
    "\n",
    "Region2:\n",
    "Since about half of our data are missing for region2, we would exclude the column region2 from our analysis.\n",
    "\n",
    "Taster name:\n",
    "We would exclude this from our analysis since we do not really want to know how accurate a taster is, but rather based on the wine's description, what is the wine variety. \n",
    "\n",
    "Taster tweeter handle:\n",
    "This is also irrelevant to our analysis so we would not be including this column in our analysis.\n",
    "\n",
    "Variety: Since there is only 1 row that has missing variety, we will just drop it\n",
    "\n",
    "\n"
   ]
  },
  {
   "cell_type": "code",
   "execution_count": 11,
   "metadata": {},
   "outputs": [
    {
     "name": "stderr",
     "output_type": "stream",
     "text": [
      "/anaconda/lib/python3.6/site-packages/pandas/core/generic.py:3549: SettingWithCopyWarning: \n",
      "A value is trying to be set on a copy of a slice from a DataFrame\n",
      "\n",
      "See the caveats in the documentation: http://pandas.pydata.org/pandas-docs/stable/indexing.html#indexing-view-versus-copy\n",
      "  self._update_inplace(new_data)\n"
     ]
    }
   ],
   "source": [
    "wine2['country'].fillna('unknown',inplace= True)"
   ]
  },
  {
   "cell_type": "code",
   "execution_count": 12,
   "metadata": {
    "collapsed": true
   },
   "outputs": [],
   "source": [
    " #Price of wine in different countries:\n",
    "price_and_country = wine2.groupby('country')['price'].mean().reset_index()\n",
    "price_and_country.sort_values(by=['price'],ascending=False,inplace=True)"
   ]
  },
  {
   "cell_type": "code",
   "execution_count": 13,
   "metadata": {},
   "outputs": [
    {
     "data": {
      "text/html": [
       "<div>\n",
       "<style>\n",
       "    .dataframe thead tr:only-child th {\n",
       "        text-align: right;\n",
       "    }\n",
       "\n",
       "    .dataframe thead th {\n",
       "        text-align: left;\n",
       "    }\n",
       "\n",
       "    .dataframe tbody tr th {\n",
       "        vertical-align: top;\n",
       "    }\n",
       "</style>\n",
       "<table border=\"1\" class=\"dataframe\">\n",
       "  <thead>\n",
       "    <tr style=\"text-align: right;\">\n",
       "      <th></th>\n",
       "      <th>country</th>\n",
       "      <th>price</th>\n",
       "    </tr>\n",
       "  </thead>\n",
       "  <tbody>\n",
       "    <tr>\n",
       "      <th>38</th>\n",
       "      <td>Switzerland</td>\n",
       "      <td>72.833333</td>\n",
       "    </tr>\n",
       "    <tr>\n",
       "      <th>14</th>\n",
       "      <td>England</td>\n",
       "      <td>52.677966</td>\n",
       "    </tr>\n",
       "    <tr>\n",
       "      <th>17</th>\n",
       "      <td>Germany</td>\n",
       "      <td>43.460789</td>\n",
       "    </tr>\n",
       "    <tr>\n",
       "      <th>19</th>\n",
       "      <td>Hungary</td>\n",
       "      <td>42.234375</td>\n",
       "    </tr>\n",
       "    <tr>\n",
       "      <th>15</th>\n",
       "      <td>France</td>\n",
       "      <td>41.994105</td>\n",
       "    </tr>\n",
       "    <tr>\n",
       "      <th>22</th>\n",
       "      <td>Italy</td>\n",
       "      <td>39.928027</td>\n",
       "    </tr>\n",
       "    <tr>\n",
       "      <th>40</th>\n",
       "      <td>US</td>\n",
       "      <td>36.697346</td>\n",
       "    </tr>\n",
       "    <tr>\n",
       "      <th>7</th>\n",
       "      <td>Canada</td>\n",
       "      <td>35.776786</td>\n",
       "    </tr>\n",
       "    <tr>\n",
       "      <th>2</th>\n",
       "      <td>Australia</td>\n",
       "      <td>35.686491</td>\n",
       "    </tr>\n",
       "    <tr>\n",
       "      <th>21</th>\n",
       "      <td>Israel</td>\n",
       "      <td>31.770419</td>\n",
       "    </tr>\n",
       "    <tr>\n",
       "      <th>3</th>\n",
       "      <td>Austria</td>\n",
       "      <td>31.343195</td>\n",
       "    </tr>\n",
       "    <tr>\n",
       "      <th>23</th>\n",
       "      <td>Lebanon</td>\n",
       "      <td>30.281250</td>\n",
       "    </tr>\n",
       "    <tr>\n",
       "      <th>37</th>\n",
       "      <td>Spain</td>\n",
       "      <td>28.205654</td>\n",
       "    </tr>\n",
       "    <tr>\n",
       "      <th>29</th>\n",
       "      <td>New Zealand</td>\n",
       "      <td>26.833065</td>\n",
       "    </tr>\n",
       "    <tr>\n",
       "      <th>31</th>\n",
       "      <td>Portugal</td>\n",
       "      <td>26.554198</td>\n",
       "    </tr>\n",
       "    <tr>\n",
       "      <th>26</th>\n",
       "      <td>Mexico</td>\n",
       "      <td>26.470588</td>\n",
       "    </tr>\n",
       "    <tr>\n",
       "      <th>42</th>\n",
       "      <td>Uruguay</td>\n",
       "      <td>26.326531</td>\n",
       "    </tr>\n",
       "    <tr>\n",
       "      <th>35</th>\n",
       "      <td>Slovenia</td>\n",
       "      <td>25.542857</td>\n",
       "    </tr>\n",
       "    <tr>\n",
       "      <th>10</th>\n",
       "      <td>Croatia</td>\n",
       "      <td>25.529412</td>\n",
       "    </tr>\n",
       "    <tr>\n",
       "      <th>39</th>\n",
       "      <td>Turkey</td>\n",
       "      <td>24.950617</td>\n",
       "    </tr>\n",
       "    <tr>\n",
       "      <th>33</th>\n",
       "      <td>Serbia</td>\n",
       "      <td>24.875000</td>\n",
       "    </tr>\n",
       "    <tr>\n",
       "      <th>43</th>\n",
       "      <td>unknown</td>\n",
       "      <td>24.745455</td>\n",
       "    </tr>\n",
       "    <tr>\n",
       "      <th>0</th>\n",
       "      <td>Argentina</td>\n",
       "      <td>24.579429</td>\n",
       "    </tr>\n",
       "    <tr>\n",
       "      <th>5</th>\n",
       "      <td>Brazil</td>\n",
       "      <td>24.500000</td>\n",
       "    </tr>\n",
       "    <tr>\n",
       "      <th>36</th>\n",
       "      <td>South Africa</td>\n",
       "      <td>24.332218</td>\n",
       "    </tr>\n",
       "    <tr>\n",
       "      <th>24</th>\n",
       "      <td>Luxembourg</td>\n",
       "      <td>23.400000</td>\n",
       "    </tr>\n",
       "    <tr>\n",
       "      <th>12</th>\n",
       "      <td>Czech Republic</td>\n",
       "      <td>22.363636</td>\n",
       "    </tr>\n",
       "    <tr>\n",
       "      <th>18</th>\n",
       "      <td>Greece</td>\n",
       "      <td>22.246479</td>\n",
       "    </tr>\n",
       "    <tr>\n",
       "      <th>8</th>\n",
       "      <td>Chile</td>\n",
       "      <td>20.848184</td>\n",
       "    </tr>\n",
       "    <tr>\n",
       "      <th>16</th>\n",
       "      <td>Georgia</td>\n",
       "      <td>19.364865</td>\n",
       "    </tr>\n",
       "    <tr>\n",
       "      <th>28</th>\n",
       "      <td>Morocco</td>\n",
       "      <td>18.958333</td>\n",
       "    </tr>\n",
       "    <tr>\n",
       "      <th>30</th>\n",
       "      <td>Peru</td>\n",
       "      <td>18.062500</td>\n",
       "    </tr>\n",
       "    <tr>\n",
       "      <th>9</th>\n",
       "      <td>China</td>\n",
       "      <td>18.000000</td>\n",
       "    </tr>\n",
       "    <tr>\n",
       "      <th>27</th>\n",
       "      <td>Moldova</td>\n",
       "      <td>16.732143</td>\n",
       "    </tr>\n",
       "    <tr>\n",
       "      <th>11</th>\n",
       "      <td>Cyprus</td>\n",
       "      <td>16.500000</td>\n",
       "    </tr>\n",
       "    <tr>\n",
       "      <th>34</th>\n",
       "      <td>Slovakia</td>\n",
       "      <td>16.000000</td>\n",
       "    </tr>\n",
       "    <tr>\n",
       "      <th>25</th>\n",
       "      <td>Macedonia</td>\n",
       "      <td>15.636364</td>\n",
       "    </tr>\n",
       "    <tr>\n",
       "      <th>32</th>\n",
       "      <td>Romania</td>\n",
       "      <td>15.333333</td>\n",
       "    </tr>\n",
       "    <tr>\n",
       "      <th>6</th>\n",
       "      <td>Bulgaria</td>\n",
       "      <td>14.840909</td>\n",
       "    </tr>\n",
       "    <tr>\n",
       "      <th>1</th>\n",
       "      <td>Armenia</td>\n",
       "      <td>14.500000</td>\n",
       "    </tr>\n",
       "    <tr>\n",
       "      <th>20</th>\n",
       "      <td>India</td>\n",
       "      <td>13.750000</td>\n",
       "    </tr>\n",
       "    <tr>\n",
       "      <th>4</th>\n",
       "      <td>Bosnia and Herzegovina</td>\n",
       "      <td>12.500000</td>\n",
       "    </tr>\n",
       "    <tr>\n",
       "      <th>41</th>\n",
       "      <td>Ukraine</td>\n",
       "      <td>9.214286</td>\n",
       "    </tr>\n",
       "    <tr>\n",
       "      <th>13</th>\n",
       "      <td>Egypt</td>\n",
       "      <td>NaN</td>\n",
       "    </tr>\n",
       "  </tbody>\n",
       "</table>\n",
       "</div>"
      ],
      "text/plain": [
       "                   country      price\n",
       "38             Switzerland  72.833333\n",
       "14                 England  52.677966\n",
       "17                 Germany  43.460789\n",
       "19                 Hungary  42.234375\n",
       "15                  France  41.994105\n",
       "22                   Italy  39.928027\n",
       "40                      US  36.697346\n",
       "7                   Canada  35.776786\n",
       "2                Australia  35.686491\n",
       "21                  Israel  31.770419\n",
       "3                  Austria  31.343195\n",
       "23                 Lebanon  30.281250\n",
       "37                   Spain  28.205654\n",
       "29             New Zealand  26.833065\n",
       "31                Portugal  26.554198\n",
       "26                  Mexico  26.470588\n",
       "42                 Uruguay  26.326531\n",
       "35                Slovenia  25.542857\n",
       "10                 Croatia  25.529412\n",
       "39                  Turkey  24.950617\n",
       "33                  Serbia  24.875000\n",
       "43                 unknown  24.745455\n",
       "0                Argentina  24.579429\n",
       "5                   Brazil  24.500000\n",
       "36            South Africa  24.332218\n",
       "24              Luxembourg  23.400000\n",
       "12          Czech Republic  22.363636\n",
       "18                  Greece  22.246479\n",
       "8                    Chile  20.848184\n",
       "16                 Georgia  19.364865\n",
       "28                 Morocco  18.958333\n",
       "30                    Peru  18.062500\n",
       "9                    China  18.000000\n",
       "27                 Moldova  16.732143\n",
       "11                  Cyprus  16.500000\n",
       "34                Slovakia  16.000000\n",
       "25               Macedonia  15.636364\n",
       "32                 Romania  15.333333\n",
       "6                 Bulgaria  14.840909\n",
       "1                  Armenia  14.500000\n",
       "20                   India  13.750000\n",
       "4   Bosnia and Herzegovina  12.500000\n",
       "41                 Ukraine   9.214286\n",
       "13                   Egypt        NaN"
      ]
     },
     "execution_count": 13,
     "metadata": {},
     "output_type": "execute_result"
    }
   ],
   "source": [
    "price_and_country"
   ]
  },
  {
   "cell_type": "markdown",
   "metadata": {},
   "source": [
    "Since Egypt does not seem to have any prices regarding the wines they produce, I would not be able to fill in any prices for Egypt. Thus, filling missing prices based on each country's average price might not be the best method here. "
   ]
  },
  {
   "cell_type": "code",
   "execution_count": 14,
   "metadata": {},
   "outputs": [
    {
     "data": {
      "text/html": [
       "<div>\n",
       "<style>\n",
       "    .dataframe thead tr:only-child th {\n",
       "        text-align: right;\n",
       "    }\n",
       "\n",
       "    .dataframe thead th {\n",
       "        text-align: left;\n",
       "    }\n",
       "\n",
       "    .dataframe tbody tr th {\n",
       "        vertical-align: top;\n",
       "    }\n",
       "</style>\n",
       "<table border=\"1\" class=\"dataframe\">\n",
       "  <thead>\n",
       "    <tr style=\"text-align: right;\">\n",
       "      <th></th>\n",
       "      <th>price</th>\n",
       "      <th>points</th>\n",
       "      <th>log_price</th>\n",
       "    </tr>\n",
       "  </thead>\n",
       "  <tbody>\n",
       "    <tr>\n",
       "      <th>1</th>\n",
       "      <td>15.0</td>\n",
       "      <td>87</td>\n",
       "      <td>2.708050</td>\n",
       "    </tr>\n",
       "    <tr>\n",
       "      <th>2</th>\n",
       "      <td>14.0</td>\n",
       "      <td>87</td>\n",
       "      <td>2.639057</td>\n",
       "    </tr>\n",
       "  </tbody>\n",
       "</table>\n",
       "</div>"
      ],
      "text/plain": [
       "   price  points  log_price\n",
       "1   15.0      87   2.708050\n",
       "2   14.0      87   2.639057"
      ]
     },
     "execution_count": 14,
     "metadata": {},
     "output_type": "execute_result"
    }
   ],
   "source": [
    "#Price Distribution:\n",
    "price_points = wine2[pd.notnull(wine2['price'])][['price','points']]\n",
    "price_points['log_price'] = np.log(price_points['price'])\n",
    "price_points.head(2)"
   ]
  },
  {
   "cell_type": "code",
   "execution_count": 15,
   "metadata": {},
   "outputs": [
    {
     "data": {
      "image/png": "[encoded data removed]",
      "text/plain": [
       "<matplotlib.figure.Figure at 0x118b48f28>"
      ]
     },
     "metadata": {},
     "output_type": "display_data"
    }
   ],
   "source": [
    "sns.distplot(price_points['price'],bins=20)\n",
    "plt.xlabel('Price')\n",
    "plt.ylabel('Number of wines')\n",
    "plt.title('Price Distribution of Wines')\n",
    "plt.show()"
   ]
  },
  {
   "cell_type": "markdown",
   "metadata": {},
   "source": [
    "We can see that the price distribution is right-skewed and this is not a surprise because in general price has no limit and thus the distribution of price could have a pretty large range. Thus, it would be better if I transform this variable to log(price) to make the price distribution more normal."
   ]
  },
  {
   "cell_type": "code",
   "execution_count": 16,
   "metadata": {},
   "outputs": [
    {
     "data": {
      "image/png": "[encoded data removed]",
      "text/plain": [
       "<matplotlib.figure.Figure at 0x11371c668>"
      ]
     },
     "metadata": {},
     "output_type": "display_data"
    }
   ],
   "source": [
    "sns.distplot(price_points['log_price'],bins=20)\n",
    "plt.xlabel('Log(Price)')\n",
    "plt.ylabel('Number of wines')\n",
    "plt.title('Log Price Distribution of Wines')\n",
    "plt.show()"
   ]
  },
  {
   "cell_type": "markdown",
   "metadata": {},
   "source": [
    "The distribution of wine price is now more normal, with a peak of 3 and 3.5. I would like to now figure out if Log(price) has a correlation with the quality of wine (based on number of points the wine has)."
   ]
  },
  {
   "cell_type": "code",
   "execution_count": 17,
   "metadata": {},
   "outputs": [
    {
     "data": {
      "image/png": "[encoded data removed]",
      "text/plain": [
       "<matplotlib.figure.Figure at 0x118b23dd8>"
      ]
     },
     "metadata": {},
     "output_type": "display_data"
    }
   ],
   "source": [
    "sns.regplot(x='points',y='log_price',data=price_points,scatter=True,fit_reg=True)\n",
    "plt.xlabel('Wine Quality')\n",
    "plt.ylabel('Prices of Wine')\n",
    "plt.title('How does price change as wine quality gets better?')\n",
    "plt.show()"
   ]
  },
  {
   "cell_type": "markdown",
   "metadata": {},
   "source": [
    "Turns out that there is a linear relationship between price of wine and wine quality. As wine quality increases, the price of wine also increases. Thus, using points to predict the prices of wine would be useful here."
   ]
  },
  {
   "cell_type": "code",
   "execution_count": 18,
   "metadata": {},
   "outputs": [
    {
     "name": "stderr",
     "output_type": "stream",
     "text": [
      "/anaconda/lib/python3.6/site-packages/ipykernel_launcher.py:4: FutureWarning: reshape is deprecated and will raise in a subsequent release. Please use .values.reshape(...) instead\n",
      "  after removing the cwd from sys.path.\n",
      "/anaconda/lib/python3.6/site-packages/ipykernel_launcher.py:5: FutureWarning: reshape is deprecated and will raise in a subsequent release. Please use .values.reshape(...) instead\n",
      "  \"\"\"\n",
      "/anaconda/lib/python3.6/site-packages/ipykernel_launcher.py:12: SettingWithCopyWarning: \n",
      "A value is trying to be set on a copy of a slice from a DataFrame\n",
      "\n",
      "See the caveats in the documentation: http://pandas.pydata.org/pandas-docs/stable/indexing.html#indexing-view-versus-copy\n",
      "  if sys.path[0] == '':\n",
      "/anaconda/lib/python3.6/site-packages/IPython/core/interactiveshell.py:2881: SettingWithCopyWarning: \n",
      "A value is trying to be set on a copy of a slice from a DataFrame\n",
      "\n",
      "See the caveats in the documentation: http://pandas.pydata.org/pandas-docs/stable/indexing.html#indexing-view-versus-copy\n",
      "  exec(code_obj, self.user_global_ns, self.user_ns)\n"
     ]
    },
    {
     "name": "stdout",
     "output_type": "stream",
     "text": [
      "intercept: [-8.30436854]\n",
      "Coefficient: [[ 0.13144119]]\n"
     ]
    }
   ],
   "source": [
    "#fill in missing prices of wine with points linear regression formula:\n",
    "from sklearn.linear_model import LinearRegression\n",
    "lm = LinearRegression()\n",
    "X = price_points['points'].reshape((111567,1))\n",
    "y = price_points['log_price'].reshape((111567,1))\n",
    "lm.fit(X,y)\n",
    "print('intercept:',lm.intercept_)\n",
    "print('Coefficient:',lm.coef_)\n",
    "\n",
    "for idx,row in wine2.iterrows():\n",
    "    if pd.isnull(row['price']):\n",
    "        wine2['price'][idx] = np.exp(lm.intercept_ + (lm.coef_*row['points']))\n"
   ]
  },
  {
   "cell_type": "code",
   "execution_count": 19,
   "metadata": {},
   "outputs": [
    {
     "data": {
      "text/plain": [
       "Unnamed: 0                   0\n",
       "country                      0\n",
       "description                  0\n",
       "designation              34532\n",
       "points                       0\n",
       "price                        0\n",
       "province                    59\n",
       "region_1                 19558\n",
       "region_2                 73195\n",
       "taster_name              24912\n",
       "taster_twitter_handle    29441\n",
       "title                        0\n",
       "variety                      1\n",
       "winery                       0\n",
       "dtype: int64"
      ]
     },
     "execution_count": 19,
     "metadata": {},
     "output_type": "execute_result"
    }
   ],
   "source": [
    "wine2.isnull().sum()"
   ]
  },
  {
   "cell_type": "code",
   "execution_count": 20,
   "metadata": {},
   "outputs": [
    {
     "name": "stderr",
     "output_type": "stream",
     "text": [
      "/anaconda/lib/python3.6/site-packages/ipykernel_launcher.py:2: SettingWithCopyWarning: \n",
      "A value is trying to be set on a copy of a slice from a DataFrame.\n",
      "Try using .loc[row_indexer,col_indexer] = value instead\n",
      "\n",
      "See the caveats in the documentation: http://pandas.pydata.org/pandas-docs/stable/indexing.html#indexing-view-versus-copy\n",
      "  \n",
      "/anaconda/lib/python3.6/site-packages/ipykernel_launcher.py:3: SettingWithCopyWarning: \n",
      "A value is trying to be set on a copy of a slice from a DataFrame.\n",
      "Try using .loc[row_indexer,col_indexer] = value instead\n",
      "\n",
      "See the caveats in the documentation: http://pandas.pydata.org/pandas-docs/stable/indexing.html#indexing-view-versus-copy\n",
      "  This is separate from the ipykernel package so we can avoid doing imports until\n"
     ]
    }
   ],
   "source": [
    "#Let's fill in the missing values for Region1:\n",
    "wine2['region_1'] = wine2['region_1'].fillna('unknown')\n",
    "wine2['province'] = wine2['province'].fillna('unknown')"
   ]
  },
  {
   "cell_type": "code",
   "execution_count": 21,
   "metadata": {
    "collapsed": true
   },
   "outputs": [],
   "source": [
    "df = wine2[pd.notnull(wine2['variety'])]\n",
    "df = df.drop(['designation','region_2','taster_name','taster_twitter_handle'],axis=1)\n",
    "df['log_price'] = np.log(df['price'])"
   ]
  },
  {
   "cell_type": "code",
   "execution_count": 22,
   "metadata": {},
   "outputs": [
    {
     "data": {
      "text/plain": [
       "Unnamed: 0     0\n",
       "country        0\n",
       "description    0\n",
       "points         0\n",
       "price          0\n",
       "province       0\n",
       "region_1       0\n",
       "title          0\n",
       "variety        0\n",
       "winery         0\n",
       "log_price      0\n",
       "dtype: int64"
      ]
     },
     "execution_count": 22,
     "metadata": {},
     "output_type": "execute_result"
    }
   ],
   "source": [
    "df.isnull().sum()"
   ]
  },
  {
   "cell_type": "markdown",
   "metadata": {},
   "source": [
    "Since we would not be using designation, province,region_2, taster_name, and taster_twitter_handle as part of our analysis, as we are mainly considering the wine's description as part of the wine variety's prediction, we now have no missing values."
   ]
  },
  {
   "cell_type": "code",
   "execution_count": 23,
   "metadata": {},
   "outputs": [
    {
     "data": {
      "image/png": "[encoded data removed]",
      "text/plain": [
       "<matplotlib.figure.Figure at 0x118acbc18>"
      ]
     },
     "metadata": {},
     "output_type": "display_data"
    }
   ],
   "source": [
    "#Average Price variation across countries:\n",
    "country_prices = df.groupby('country')['log_price'].mean().reset_index()\n",
    "country_prices = country_prices.sort_values('log_price',ascending=False)\n",
    "sns.barplot(x='country',y='log_price',data=country_prices)\n",
    "plt.xticks(rotation = 90)\n",
    "plt.xlabel('Countries')\n",
    "plt.ylabel('Log Price')\n",
    "plt.title('Which countries produce expensive wines?')\n",
    "plt.show()"
   ]
  },
  {
   "cell_type": "markdown",
   "metadata": {},
   "source": [
    "Based on mean prices, we can see that Switzerland produce the most expensive wines among other countries, followed by England, Canada, and US.\n",
    "\n",
    "The cheapest wine producing countries are Ukraine, ROmania, Bosnia, and India."
   ]
  },
  {
   "cell_type": "code",
   "execution_count": 24,
   "metadata": {},
   "outputs": [
    {
     "data": {
      "image/png": "[encoded data removed]",
      "text/plain": [
       "<matplotlib.figure.Figure at 0x1164609b0>"
      ]
     },
     "metadata": {},
     "output_type": "display_data"
    }
   ],
   "source": [
    "#LogPrice Ranges across countries:\n",
    "sns.boxplot(x='country',y='log_price',data=df)\n",
    "plt.xlabel('country')\n",
    "plt.xticks(rotation=90)\n",
    "plt.ylabel('Log Price')\n",
    "plt.title('How does price ranges across countries?')\n",
    "plt.show()"
   ]
  },
  {
   "cell_type": "code",
   "execution_count": 25,
   "metadata": {},
   "outputs": [
    {
     "data": {
      "image/png": "[encoded data removed]",
      "text/plain": [
       "<matplotlib.figure.Figure at 0x11820ccf8>"
      ]
     },
     "metadata": {},
     "output_type": "display_data"
    }
   ],
   "source": [
    "#points distribution:\n",
    "sns.distplot(price_points['points'],bins=20)\n",
    "plt.xlabel('Points')\n",
    "plt.ylabel('Number of wines')\n",
    "plt.title('Distribution of Wine Quality')\n",
    "plt.show()"
   ]
  },
  {
   "cell_type": "markdown",
   "metadata": {},
   "source": [
    "We can see that the wines here have a minimum score of 80. According to a sommelier, a score of 80 indicates that a wine is of good enough quality to get a review. However, if the benchmark is 90, which countries produce really high quality wines?"
   ]
  },
  {
   "cell_type": "code",
   "execution_count": 26,
   "metadata": {},
   "outputs": [
    {
     "data": {
      "image/png": "[encoded data removed]",
      "text/plain": [
       "<matplotlib.figure.Figure at 0x114536390>"
      ]
     },
     "metadata": {},
     "output_type": "display_data"
    }
   ],
   "source": [
    "#Wine quality across countries:\n",
    "points_country = df.groupby('country')['points'].mean().reset_index()\n",
    "points_country = points_country.sort_values('points',ascending=False)\n",
    "sns.barplot(x='country',y='points',data=points_country)\n",
    "plt.xlabel('Countries')\n",
    "plt.xticks(rotation=90)\n",
    "plt.ylabel('Points')\n",
    "plt.title('Average score of wines across countries')\n",
    "plt.show()"
   ]
  },
  {
   "cell_type": "code",
   "execution_count": 27,
   "metadata": {},
   "outputs": [
    {
     "data": {
      "image/png": "[encoded data removed]",
      "text/plain": [
       "<matplotlib.figure.Figure at 0x11458e828>"
      ]
     },
     "metadata": {},
     "output_type": "display_data"
    }
   ],
   "source": [
    "#Figure out the points of wine across different countries:\n",
    "sns.boxplot(x='country',y='points',data=df)\n",
    "plt.xlabel('Countries')\n",
    "plt.xticks(rotation=90)\n",
    "plt.ylabel('Point Range')\n",
    "plt.title('Which countries have high points wine?')\n",
    "plt.show()"
   ]
  },
  {
   "cell_type": "markdown",
   "metadata": {},
   "source": [
    " - sort from highest to lowest"
   ]
  },
  {
   "cell_type": "markdown",
   "metadata": {},
   "source": [
    "England's wines seem to have higher points in comparison to other countries and India as well. What is interesting here is India's wines do not seem to be on the high-end of the price range but England's wines seem to be on the high-end of the price range. This might mean that Price is not correlated with points. I will evaluate this further below."
   ]
  },
  {
   "cell_type": "code",
   "execution_count": 28,
   "metadata": {},
   "outputs": [
    {
     "data": {
      "text/html": [
       "<div>\n",
       "<style>\n",
       "    .dataframe thead tr:only-child th {\n",
       "        text-align: right;\n",
       "    }\n",
       "\n",
       "    .dataframe thead th {\n",
       "        text-align: left;\n",
       "    }\n",
       "\n",
       "    .dataframe tbody tr th {\n",
       "        vertical-align: top;\n",
       "    }\n",
       "</style>\n",
       "<table border=\"1\" class=\"dataframe\">\n",
       "  <thead>\n",
       "    <tr style=\"text-align: right;\">\n",
       "      <th></th>\n",
       "      <th>country</th>\n",
       "      <th>Total Number of Wines</th>\n",
       "      <th>Number of High Quality Wines</th>\n",
       "      <th>Proportion of High Quality wines</th>\n",
       "    </tr>\n",
       "  </thead>\n",
       "  <tbody>\n",
       "    <tr>\n",
       "      <th>0</th>\n",
       "      <td>Argentina</td>\n",
       "      <td>3543</td>\n",
       "      <td>714.0</td>\n",
       "      <td>0.201524</td>\n",
       "    </tr>\n",
       "    <tr>\n",
       "      <th>1</th>\n",
       "      <td>Armenia</td>\n",
       "      <td>2</td>\n",
       "      <td>0.0</td>\n",
       "      <td>0.000000</td>\n",
       "    </tr>\n",
       "  </tbody>\n",
       "</table>\n",
       "</div>"
      ],
      "text/plain": [
       "     country  Total Number of Wines  Number of High Quality Wines  \\\n",
       "0  Argentina                   3543                         714.0   \n",
       "1    Armenia                      2                           0.0   \n",
       "\n",
       "   Proportion of High Quality wines  \n",
       "0                          0.201524  \n",
       "1                          0.000000  "
      ]
     },
     "execution_count": 28,
     "metadata": {},
     "output_type": "execute_result"
    }
   ],
   "source": [
    "#Best wine producing countries based on counts (point system):\n",
    "wine_count = pd.DataFrame()\n",
    "wine_count['Total Number of Wines'] = df.groupby('country')['points'].count()\n",
    "good_wine = df.points >=90\n",
    "good_wine2 = df[good_wine]\n",
    "wine_count['Number of High Quality Wines'] = good_wine2.groupby('country')['points'].count()\n",
    "wine_count.fillna(0,inplace=True)\n",
    "wine_count['Proportion of High Quality wines'] = wine_count['Number of High Quality Wines']/wine_count['Total Number of Wines']\n",
    "wine_count.reset_index(inplace=True)\n",
    "wine_count.head(2)"
   ]
  },
  {
   "cell_type": "code",
   "execution_count": 29,
   "metadata": {},
   "outputs": [
    {
     "data": {
      "image/png": "[encoded data removed]",
      "text/plain": [
       "<matplotlib.figure.Figure at 0x1137644e0>"
      ]
     },
     "metadata": {},
     "output_type": "display_data"
    }
   ],
   "source": [
    "wine_count = wine_count.sort_values('Proportion of High Quality wines',ascending=False).iloc[:9,:]\n",
    "sns.barplot(x='Proportion of High Quality wines',y='country',data=wine_count)\n",
    "plt.xlabel('Proportion of High Quality Wines')\n",
    "plt.ylabel('Countries')\n",
    "plt.title('Top 10 High Quality Wine Producers')\n",
    "plt.show()"
   ]
  },
  {
   "cell_type": "markdown",
   "metadata": {},
   "source": [
    "The graph above shows the proportion of wines in the specific country that have scores above 90. By having a standardized metric for all countries, instead of using number of wines only, this is a fair measure to measure which countries produce a lot of really high quality wines. "
   ]
  },
  {
   "cell_type": "code",
   "execution_count": 30,
   "metadata": {},
   "outputs": [
    {
     "data": {
      "image/png": "[encoded data removed]",
      "text/plain": [
       "<matplotlib.figure.Figure at 0x113764cc0>"
      ]
     },
     "metadata": {},
     "output_type": "display_data"
    }
   ],
   "source": [
    "#Which wine variety have highest points? #based on count\n",
    "variety_bestwine = df.groupby('variety').agg({'points':'count','price':'mean'}).reset_index()\n",
    "variety_bestwine2 = variety_bestwine.sort_values('points',ascending=False).iloc[:9,:]\n",
    "sns.barplot(x='points',y='variety',data=variety_bestwine2)\n",
    "plt.xlabel('Count')\n",
    "plt.ylabel('Wine Variety')\n",
    "plt.title('Best Wine Variety (Point Basis)')\n",
    "plt.show()"
   ]
  },
  {
   "cell_type": "markdown",
   "metadata": {},
   "source": [
    "The wine variety with highest quality based on points is Pinot Noir, followed by: Chardonnay, Cabernet Sauvignon, Bordeaux-style Red Blend, etc."
   ]
  },
  {
   "cell_type": "code",
   "execution_count": 31,
   "metadata": {},
   "outputs": [
    {
     "data": {
      "image/png": "[encoded data removed]",
      "text/plain": [
       "<matplotlib.figure.Figure at 0x1163c6940>"
      ]
     },
     "metadata": {},
     "output_type": "display_data"
    }
   ],
   "source": [
    "#Variety and Price\n",
    "variety_price = variety_bestwine.sort_values('price',ascending=False).iloc[:9,:]\n",
    "sns.barplot(x='price',y='variety',data=variety_price)\n",
    "plt.xlabel('Wine Variety Price')\n",
    "plt.ylabel('Wine Variety')\n",
    "plt.title('Which Wine Variety is most expensive?')\n",
    "plt.show()"
   ]
  },
  {
   "cell_type": "markdown",
   "metadata": {},
   "source": [
    "This is very interesting because most of the wines that are considered really good based on points do not make it into the most expensive wines list. "
   ]
  },
  {
   "cell_type": "code",
   "execution_count": 32,
   "metadata": {},
   "outputs": [
    {
     "data": {
      "image/png": "[encoded data removed]",
      "text/plain": [
       "<matplotlib.figure.Figure at 0x1144cd080>"
      ]
     },
     "metadata": {},
     "output_type": "display_data"
    }
   ],
   "source": [
    "#Which countries have the most number of winery?\n",
    "winery_count = df.groupby('country')['winery'].nunique().reset_index()\n",
    "winery_count = winery_count.sort_values('winery',ascending=False).iloc[:9,:]\n",
    "sns.barplot(x='winery',y='country',data=winery_count)\n",
    "plt.xlabel('Number of Unique Winery')\n",
    "plt.ylabel('Countries')\n",
    "plt.title('Which countries have the most number of unique wineries?')\n",
    "plt.show()"
   ]
  },
  {
   "cell_type": "markdown",
   "metadata": {},
   "source": [
    "Turns out that US has the most number of unique wineries, followed by France, Italy, and Spain."
   ]
  },
  {
   "cell_type": "code",
   "execution_count": 33,
   "metadata": {},
   "outputs": [
    {
     "data": {
      "image/png": "[encoded data removed]",
      "text/plain": [
       "<matplotlib.figure.Figure at 0x11d8c74e0>"
      ]
     },
     "metadata": {},
     "output_type": "display_data"
    }
   ],
   "source": [
    "from wordcloud import WordCloud,STOPWORDS\n",
    "wc = WordCloud(background_color='white', stopwords=STOPWORDS, max_font_size= 50)\n",
    "wc.generate(' '.join(str(s) for s in df.description.values))\n",
    "plt.axis('off')\n",
    "plt.imshow(wc)\n",
    "plt.show()"
   ]
  },
  {
   "cell_type": "markdown",
   "metadata": {},
   "source": [
    "Turns out that the most frequent words that a sommelier use in describing wines they taste are: flavor, fruit, wine, acidity,palate, and aroma."
   ]
  },
  {
   "cell_type": "markdown",
   "metadata": {
    "collapsed": true
   },
   "source": [
    "# Predicting wine variety using its description"
   ]
  },
  {
   "cell_type": "code",
   "execution_count": 34,
   "metadata": {},
   "outputs": [
    {
     "data": {
      "text/html": [
       "<div>\n",
       "<style>\n",
       "    .dataframe thead tr:only-child th {\n",
       "        text-align: right;\n",
       "    }\n",
       "\n",
       "    .dataframe thead th {\n",
       "        text-align: left;\n",
       "    }\n",
       "\n",
       "    .dataframe tbody tr th {\n",
       "        vertical-align: top;\n",
       "    }\n",
       "</style>\n",
       "<table border=\"1\" class=\"dataframe\">\n",
       "  <thead>\n",
       "    <tr style=\"text-align: right;\">\n",
       "      <th></th>\n",
       "      <th>Unnamed: 0</th>\n",
       "      <th>country</th>\n",
       "      <th>description</th>\n",
       "      <th>points</th>\n",
       "      <th>price</th>\n",
       "      <th>province</th>\n",
       "      <th>region_1</th>\n",
       "      <th>title</th>\n",
       "      <th>variety</th>\n",
       "      <th>winery</th>\n",
       "      <th>log_price</th>\n",
       "    </tr>\n",
       "  </thead>\n",
       "  <tbody>\n",
       "    <tr>\n",
       "      <th>0</th>\n",
       "      <td>0</td>\n",
       "      <td>Italy</td>\n",
       "      <td>Aromas include tropical fruit, broom, brimston...</td>\n",
       "      <td>87</td>\n",
       "      <td>22.897212</td>\n",
       "      <td>Sicily &amp; Sardinia</td>\n",
       "      <td>Etna</td>\n",
       "      <td>Nicosia 2013 Vulkà Bianco  (Etna)</td>\n",
       "      <td>White Blend</td>\n",
       "      <td>Nicosia</td>\n",
       "      <td>3.131015</td>\n",
       "    </tr>\n",
       "    <tr>\n",
       "      <th>1</th>\n",
       "      <td>1</td>\n",
       "      <td>Portugal</td>\n",
       "      <td>This is ripe and fruity, a wine that is smooth...</td>\n",
       "      <td>87</td>\n",
       "      <td>15.000000</td>\n",
       "      <td>Douro</td>\n",
       "      <td>unknown</td>\n",
       "      <td>Quinta dos Avidagos 2011 Avidagos Red (Douro)</td>\n",
       "      <td>Portuguese Red</td>\n",
       "      <td>Quinta dos Avidagos</td>\n",
       "      <td>2.708050</td>\n",
       "    </tr>\n",
       "  </tbody>\n",
       "</table>\n",
       "</div>"
      ],
      "text/plain": [
       "   Unnamed: 0   country                                        description  \\\n",
       "0           0     Italy  Aromas include tropical fruit, broom, brimston...   \n",
       "1           1  Portugal  This is ripe and fruity, a wine that is smooth...   \n",
       "\n",
       "   points      price           province region_1  \\\n",
       "0      87  22.897212  Sicily & Sardinia     Etna   \n",
       "1      87  15.000000              Douro  unknown   \n",
       "\n",
       "                                           title         variety  \\\n",
       "0              Nicosia 2013 Vulkà Bianco  (Etna)     White Blend   \n",
       "1  Quinta dos Avidagos 2011 Avidagos Red (Douro)  Portuguese Red   \n",
       "\n",
       "                winery  log_price  \n",
       "0              Nicosia   3.131015  \n",
       "1  Quinta dos Avidagos   2.708050  "
      ]
     },
     "execution_count": 34,
     "metadata": {},
     "output_type": "execute_result"
    }
   ],
   "source": [
    "df.head(2)"
   ]
  },
  {
   "cell_type": "code",
   "execution_count": 35,
   "metadata": {},
   "outputs": [
    {
     "data": {
      "text/html": [
       "<div>\n",
       "<style>\n",
       "    .dataframe thead tr:only-child th {\n",
       "        text-align: right;\n",
       "    }\n",
       "\n",
       "    .dataframe thead th {\n",
       "        text-align: left;\n",
       "    }\n",
       "\n",
       "    .dataframe tbody tr th {\n",
       "        vertical-align: top;\n",
       "    }\n",
       "</style>\n",
       "<table border=\"1\" class=\"dataframe\">\n",
       "  <thead>\n",
       "    <tr style=\"text-align: right;\">\n",
       "      <th></th>\n",
       "      <th>description</th>\n",
       "      <th>variety</th>\n",
       "    </tr>\n",
       "  </thead>\n",
       "  <tbody>\n",
       "    <tr>\n",
       "      <th>0</th>\n",
       "      <td>Aromas include tropical fruit, broom, brimston...</td>\n",
       "      <td>White Blend</td>\n",
       "    </tr>\n",
       "    <tr>\n",
       "      <th>1</th>\n",
       "      <td>This is ripe and fruity, a wine that is smooth...</td>\n",
       "      <td>Portuguese Red</td>\n",
       "    </tr>\n",
       "  </tbody>\n",
       "</table>\n",
       "</div>"
      ],
      "text/plain": [
       "                                         description         variety\n",
       "0  Aromas include tropical fruit, broom, brimston...     White Blend\n",
       "1  This is ripe and fruity, a wine that is smooth...  Portuguese Red"
      ]
     },
     "execution_count": 35,
     "metadata": {},
     "output_type": "execute_result"
    }
   ],
   "source": [
    "description_wine = df[['description','variety']]\n",
    "description_wine.head(2)"
   ]
  },
  {
   "cell_type": "code",
   "execution_count": 36,
   "metadata": {
    "collapsed": true
   },
   "outputs": [],
   "source": [
    "#split training and testing data:\n",
    "X = description_wine[['description']]\n",
    "y = description_wine['variety']\n",
    "from sklearn.model_selection import train_test_split\n",
    "x_train,x_test,y_train,y_test = train_test_split(X,y,test_size=0.2,random_state=1)\n"
   ]
  },
  {
   "cell_type": "code",
   "execution_count": 37,
   "metadata": {
    "collapsed": true
   },
   "outputs": [],
   "source": [
    "from sklearn.feature_extraction.text import CountVectorizer\n",
    "vec = CountVectorizer(stop_words='english')\n",
    "x_train_data = vec.fit_transform(x_train.description)\n",
    "x_test_data = vec.transform(x_test.description)"
   ]
  },
  {
   "cell_type": "code",
   "execution_count": 38,
   "metadata": {
    "collapsed": true
   },
   "outputs": [],
   "source": [
    "from sklearn.feature_extraction.text import TfidfVectorizer\n",
    "tfidf = TfidfVectorizer(min_df=1,stop_words='english')\n",
    "x_train_tfidf = tfidf.fit_transform(x_train.description)\n",
    "x_test_tfidf = tfidf.transform(x_test.description)"
   ]
  },
  {
   "cell_type": "code",
   "execution_count": 39,
   "metadata": {
    "collapsed": true
   },
   "outputs": [],
   "source": [
    "X_all_Count = vec.fit_transform(X.description)\n",
    "X_all_tfidf = tfidf.fit_transform(X.description)"
   ]
  },
  {
   "cell_type": "code",
   "execution_count": 40,
   "metadata": {
    "collapsed": true
   },
   "outputs": [],
   "source": [
    "##use word2vec or doc2vec"
   ]
  },
  {
   "cell_type": "code",
   "execution_count": 41,
   "metadata": {},
   "outputs": [],
   "source": [
    "#USE DUMMY CLASSIFIER\n",
    "from sklearn.dummy import DummyClassifier\n",
    "dummy = DummyClassifier()\n",
    "dummy.fit(x_train_data,y_train)\n",
    "dummy_predict = dummy.predict(x_test_data)\n",
    "dummy_actual_vs_predicted = pd.DataFrame(dummy_predict,y_test).reset_index()\n",
    "dummy_actual_vs_predicted.columns = ['predicted','actual']"
   ]
  },
  {
   "cell_type": "code",
   "execution_count": 42,
   "metadata": {},
   "outputs": [
    {
     "name": "stdout",
     "output_type": "stream",
     "text": [
      "Accuracy Score: 0.0414322037431\n"
     ]
    },
    {
     "data": {
      "text/html": [
       "<div>\n",
       "<style>\n",
       "    .dataframe thead tr:only-child th {\n",
       "        text-align: right;\n",
       "    }\n",
       "\n",
       "    .dataframe thead th {\n",
       "        text-align: left;\n",
       "    }\n",
       "\n",
       "    .dataframe tbody tr th {\n",
       "        vertical-align: top;\n",
       "    }\n",
       "</style>\n",
       "<table border=\"1\" class=\"dataframe\">\n",
       "  <thead>\n",
       "    <tr style=\"text-align: right;\">\n",
       "      <th></th>\n",
       "      <th>predicted</th>\n",
       "      <th>actual</th>\n",
       "    </tr>\n",
       "  </thead>\n",
       "  <tbody>\n",
       "    <tr>\n",
       "      <th>0</th>\n",
       "      <td>Red Blend</td>\n",
       "      <td>Tempranillo Blend</td>\n",
       "    </tr>\n",
       "    <tr>\n",
       "      <th>1</th>\n",
       "      <td>Red Blend</td>\n",
       "      <td>Chardonnay</td>\n",
       "    </tr>\n",
       "    <tr>\n",
       "      <th>2</th>\n",
       "      <td>Chardonnay</td>\n",
       "      <td>Bordeaux-style Red Blend</td>\n",
       "    </tr>\n",
       "    <tr>\n",
       "      <th>3</th>\n",
       "      <td>Chardonnay</td>\n",
       "      <td>Pinot Noir</td>\n",
       "    </tr>\n",
       "    <tr>\n",
       "      <th>4</th>\n",
       "      <td>Pinot Noir</td>\n",
       "      <td>Zinfandel</td>\n",
       "    </tr>\n",
       "  </tbody>\n",
       "</table>\n",
       "</div>"
      ],
      "text/plain": [
       "    predicted                    actual\n",
       "0   Red Blend         Tempranillo Blend\n",
       "1   Red Blend                Chardonnay\n",
       "2  Chardonnay  Bordeaux-style Red Blend\n",
       "3  Chardonnay                Pinot Noir\n",
       "4  Pinot Noir                 Zinfandel"
      ]
     },
     "execution_count": 42,
     "metadata": {},
     "output_type": "execute_result"
    }
   ],
   "source": [
    "from sklearn.metrics import accuracy_score\n",
    "print('Accuracy Score:',accuracy_score(dummy_actual_vs_predicted.predicted, dummy_actual_vs_predicted.actual))\n",
    "dummy_actual_vs_predicted.head(5)"
   ]
  },
  {
   "cell_type": "markdown",
   "metadata": {},
   "source": [
    "We can see that the baseline accuracy for the model is 4.1% accuracy. It is important to use other models that could improve the accuracy of our prediction significantly."
   ]
  },
  {
   "cell_type": "code",
   "execution_count": 43,
   "metadata": {
    "collapsed": true
   },
   "outputs": [],
   "source": [
    "from sklearn.naive_bayes import MultinomialNB\n",
    "clf = MultinomialNB().fit(x_train_data,y_train)\n",
    "predicted = clf.predict(x_test_data)"
   ]
  },
  {
   "cell_type": "code",
   "execution_count": 44,
   "metadata": {
    "collapsed": true
   },
   "outputs": [],
   "source": [
    "actual_vs_pred = pd.DataFrame(predicted,y_test).reset_index()\n",
    "actual_vs_pred.columns = ['predicted','actual']"
   ]
  },
  {
   "cell_type": "code",
   "execution_count": 45,
   "metadata": {},
   "outputs": [
    {
     "name": "stdout",
     "output_type": "stream",
     "text": [
      "Accuracy Score: 0.485515401609\n"
     ]
    },
    {
     "data": {
      "text/html": [
       "<div>\n",
       "<style>\n",
       "    .dataframe thead tr:only-child th {\n",
       "        text-align: right;\n",
       "    }\n",
       "\n",
       "    .dataframe thead th {\n",
       "        text-align: left;\n",
       "    }\n",
       "\n",
       "    .dataframe tbody tr th {\n",
       "        vertical-align: top;\n",
       "    }\n",
       "</style>\n",
       "<table border=\"1\" class=\"dataframe\">\n",
       "  <thead>\n",
       "    <tr style=\"text-align: right;\">\n",
       "      <th></th>\n",
       "      <th>predicted</th>\n",
       "      <th>actual</th>\n",
       "    </tr>\n",
       "  </thead>\n",
       "  <tbody>\n",
       "    <tr>\n",
       "      <th>0</th>\n",
       "      <td>Red Blend</td>\n",
       "      <td>Red Blend</td>\n",
       "    </tr>\n",
       "    <tr>\n",
       "      <th>1</th>\n",
       "      <td>Red Blend</td>\n",
       "      <td>Red Blend</td>\n",
       "    </tr>\n",
       "    <tr>\n",
       "      <th>2</th>\n",
       "      <td>Chardonnay</td>\n",
       "      <td>Sauvignon Blanc</td>\n",
       "    </tr>\n",
       "    <tr>\n",
       "      <th>3</th>\n",
       "      <td>Chardonnay</td>\n",
       "      <td>Chardonnay</td>\n",
       "    </tr>\n",
       "    <tr>\n",
       "      <th>4</th>\n",
       "      <td>Pinot Noir</td>\n",
       "      <td>Pinot Noir</td>\n",
       "    </tr>\n",
       "  </tbody>\n",
       "</table>\n",
       "</div>"
      ],
      "text/plain": [
       "    predicted           actual\n",
       "0   Red Blend        Red Blend\n",
       "1   Red Blend        Red Blend\n",
       "2  Chardonnay  Sauvignon Blanc\n",
       "3  Chardonnay       Chardonnay\n",
       "4  Pinot Noir       Pinot Noir"
      ]
     },
     "execution_count": 45,
     "metadata": {},
     "output_type": "execute_result"
    }
   ],
   "source": [
    "print('Accuracy Score:',accuracy_score(actual_vs_pred.predicted, actual_vs_pred.actual))\n",
    "actual_vs_pred.head(5)"
   ]
  },
  {
   "cell_type": "markdown",
   "metadata": {},
   "source": [
    "Based on the Multinomial Naive Bayes, the accuracy of the classifier is 48.5%. This is a huge improvement in accuracy in comparison to that of the Dummy Classifier."
   ]
  },
  {
   "cell_type": "code",
   "execution_count": 46,
   "metadata": {},
   "outputs": [
    {
     "data": {
      "text/plain": [
       "LogisticRegression(C=1.0, class_weight=None, dual=False, fit_intercept=True,\n",
       "          intercept_scaling=1, max_iter=100, multi_class='ovr', n_jobs=1,\n",
       "          penalty='l2', random_state=None, solver='liblinear', tol=0.0001,\n",
       "          verbose=0, warm_start=False)"
      ]
     },
     "execution_count": 46,
     "metadata": {},
     "output_type": "execute_result"
    }
   ],
   "source": [
    "#GridSearchCV for Parameter Tuning:\n",
    "from sklearn.linear_model import LogisticRegression\n",
    "C = [0.01,0.1,1,10,100]\n",
    "logistic = LogisticRegression()\n",
    "logistic.fit(x_train_data,y_train)"
   ]
  },
  {
   "cell_type": "code",
   "execution_count": 47,
   "metadata": {},
   "outputs": [],
   "source": [
    "logistic_predict = logistic.predict(x_test_data)"
   ]
  },
  {
   "cell_type": "code",
   "execution_count": 48,
   "metadata": {},
   "outputs": [
    {
     "name": "stdout",
     "output_type": "stream",
     "text": [
      "Accuracy Score: 0.611729398524\n"
     ]
    },
    {
     "data": {
      "text/html": [
       "<div>\n",
       "<style>\n",
       "    .dataframe thead tr:only-child th {\n",
       "        text-align: right;\n",
       "    }\n",
       "\n",
       "    .dataframe thead th {\n",
       "        text-align: left;\n",
       "    }\n",
       "\n",
       "    .dataframe tbody tr th {\n",
       "        vertical-align: top;\n",
       "    }\n",
       "</style>\n",
       "<table border=\"1\" class=\"dataframe\">\n",
       "  <thead>\n",
       "    <tr style=\"text-align: right;\">\n",
       "      <th></th>\n",
       "      <th>predicted</th>\n",
       "      <th>actual</th>\n",
       "    </tr>\n",
       "  </thead>\n",
       "  <tbody>\n",
       "    <tr>\n",
       "      <th>0</th>\n",
       "      <td>Red Blend</td>\n",
       "      <td>Red Blend</td>\n",
       "    </tr>\n",
       "    <tr>\n",
       "      <th>1</th>\n",
       "      <td>Red Blend</td>\n",
       "      <td>Negroamaro</td>\n",
       "    </tr>\n",
       "    <tr>\n",
       "      <th>2</th>\n",
       "      <td>Chardonnay</td>\n",
       "      <td>Chardonnay</td>\n",
       "    </tr>\n",
       "    <tr>\n",
       "      <th>3</th>\n",
       "      <td>Chardonnay</td>\n",
       "      <td>Chardonnay</td>\n",
       "    </tr>\n",
       "    <tr>\n",
       "      <th>4</th>\n",
       "      <td>Pinot Noir</td>\n",
       "      <td>Pinot Noir</td>\n",
       "    </tr>\n",
       "  </tbody>\n",
       "</table>\n",
       "</div>"
      ],
      "text/plain": [
       "    predicted      actual\n",
       "0   Red Blend   Red Blend\n",
       "1   Red Blend  Negroamaro\n",
       "2  Chardonnay  Chardonnay\n",
       "3  Chardonnay  Chardonnay\n",
       "4  Pinot Noir  Pinot Noir"
      ]
     },
     "execution_count": 48,
     "metadata": {},
     "output_type": "execute_result"
    }
   ],
   "source": [
    "logistic_actual_vs_predicted = pd.DataFrame(logistic_predict,y_test).reset_index()\n",
    "logistic_actual_vs_predicted.columns = ['predicted','actual']\n",
    "print('Accuracy Score:',accuracy_score(logistic_actual_vs_predicted.predicted, logistic_actual_vs_predicted.actual))\n",
    "logistic_actual_vs_predicted.head(5)"
   ]
  },
  {
   "cell_type": "markdown",
   "metadata": {},
   "source": [
    "The Logistic Regression indicates a huge improvement as well in comparison to the accuracy score produced by the Naive Bayes Classifier. Using Logistic, the accuracy score is 61%."
   ]
  },
  {
   "cell_type": "code",
   "execution_count": 49,
   "metadata": {},
   "outputs": [
    {
     "name": "stderr",
     "output_type": "stream",
     "text": [
      "/anaconda/lib/python3.6/site-packages/sklearn/model_selection/_split.py:581: Warning: The least populated class in y has only 1 members, which is too few. The minimum number of groups for any class cannot be less than n_splits=3.\n",
      "  % (min_groups, self.n_splits)), Warning)\n"
     ]
    },
    {
     "name": "stdout",
     "output_type": "stream",
     "text": [
      "The best parameters for the model is: {'min_samples_leaf': 1, 'max_depth': None, 'criterion': 'gini'}\n",
      "The best model score is: 0.418442524723\n"
     ]
    }
   ],
   "source": [
    "#using Decision Tree Classification:\n",
    "from sklearn.tree import DecisionTreeClassifier\n",
    "from sklearn.model_selection import RandomizedSearchCV\n",
    "from random import randint \n",
    "\n",
    "param_dist = {\"max_depth\": [5, None],\n",
    "              \"min_samples_leaf\": (1,2,3,4,5),\n",
    "              \"criterion\": [\"gini\", \"entropy\"]}\n",
    "\n",
    "tree = DecisionTreeClassifier()\n",
    "tree_cv = RandomizedSearchCV(tree,param_dist,cv=3)\n",
    "tree_cv.fit(x_train_data,y_train)\n",
    "print('The best parameters for the model is:',tree_cv.best_params_)\n",
    "print('The best model score is:',tree_cv.best_score_)"
   ]
  },
  {
   "cell_type": "code",
   "execution_count": 50,
   "metadata": {},
   "outputs": [
    {
     "name": "stdout",
     "output_type": "stream",
     "text": [
      "Accuracy Score: 0.433412529699\n"
     ]
    },
    {
     "data": {
      "text/html": [
       "<div>\n",
       "<style>\n",
       "    .dataframe thead tr:only-child th {\n",
       "        text-align: right;\n",
       "    }\n",
       "\n",
       "    .dataframe thead th {\n",
       "        text-align: left;\n",
       "    }\n",
       "\n",
       "    .dataframe tbody tr th {\n",
       "        vertical-align: top;\n",
       "    }\n",
       "</style>\n",
       "<table border=\"1\" class=\"dataframe\">\n",
       "  <thead>\n",
       "    <tr style=\"text-align: right;\">\n",
       "      <th></th>\n",
       "      <th>predicted</th>\n",
       "      <th>actual</th>\n",
       "    </tr>\n",
       "  </thead>\n",
       "  <tbody>\n",
       "    <tr>\n",
       "      <th>0</th>\n",
       "      <td>Red Blend</td>\n",
       "      <td>Red Blend</td>\n",
       "    </tr>\n",
       "    <tr>\n",
       "      <th>1</th>\n",
       "      <td>Red Blend</td>\n",
       "      <td>Syrah</td>\n",
       "    </tr>\n",
       "    <tr>\n",
       "      <th>2</th>\n",
       "      <td>Chardonnay</td>\n",
       "      <td>Chardonnay</td>\n",
       "    </tr>\n",
       "    <tr>\n",
       "      <th>3</th>\n",
       "      <td>Chardonnay</td>\n",
       "      <td>Chardonnay</td>\n",
       "    </tr>\n",
       "    <tr>\n",
       "      <th>4</th>\n",
       "      <td>Pinot Noir</td>\n",
       "      <td>Pinot Noir</td>\n",
       "    </tr>\n",
       "  </tbody>\n",
       "</table>\n",
       "</div>"
      ],
      "text/plain": [
       "    predicted      actual\n",
       "0   Red Blend   Red Blend\n",
       "1   Red Blend       Syrah\n",
       "2  Chardonnay  Chardonnay\n",
       "3  Chardonnay  Chardonnay\n",
       "4  Pinot Noir  Pinot Noir"
      ]
     },
     "execution_count": 50,
     "metadata": {},
     "output_type": "execute_result"
    }
   ],
   "source": [
    "tree_predict = tree_cv.predict(x_test_data)\n",
    "tree_actual_vs_predicted = pd.DataFrame(tree_predict,y_test).reset_index()\n",
    "tree_actual_vs_predicted.columns = ['predicted','actual']\n",
    "print('Accuracy Score:',accuracy_score(tree_actual_vs_predicted.predicted, \n",
    "                                       tree_actual_vs_predicted.actual))\n",
    "tree_actual_vs_predicted.head(5)"
   ]
  },
  {
   "cell_type": "markdown",
   "metadata": {},
   "source": [
    "Seems that in this case a Logistic Regression model is more accurate in predicting wine variety given the description. "
   ]
  },
  {
   "cell_type": "code",
   "execution_count": 51,
   "metadata": {},
   "outputs": [
    {
     "name": "stdout",
     "output_type": "stream",
     "text": [
      "[]\n"
     ]
    },
    {
     "name": "stderr",
     "output_type": "stream",
     "text": [
      "/anaconda/lib/python3.6/site-packages/sklearn/cross_validation.py:44: DeprecationWarning: This module was deprecated in version 0.18 in favor of the model_selection module into which all the refactored classes and functions are moved. Also note that the interface of the new CV iterators are different from that of this module. This module will be removed in 0.20.\n",
      "  \"This module will be removed in 0.20.\", DeprecationWarning)\n"
     ]
    }
   ],
   "source": [
    "\"\"\"\n",
    "#using k-nearest neighbors:\n",
    "k_range = range(5-11)\n",
    "k_scores = []\n",
    "from sklearn.neighbors import KNeighborsClassifier\n",
    "from sklearn.cross_validation import cross_val_score\n",
    "\n",
    "for k in k_range:\n",
    "    knn = KNeighborsClassifier(n_neighbors = k)\n",
    "    scores = cross_val_score(knn,X_all_Count,y,scoring='accuracy')\n",
    "    k_scores.append(scores.mean())\n",
    "print(k_scores)\n",
    "\n",
    "\"\"\""
   ]
  },
  {
   "cell_type": "code",
   "execution_count": 55,
   "metadata": {},
   "outputs": [
    {
     "data": {
      "text/plain": [
       "\"\\nplt.plot(k_range,k_scores)\\nplt.xlabel('Value of K for KNN')\\nplt.ylabel('Accuracy score for different K')\\nplt.show()\\n\""
      ]
     },
     "execution_count": 55,
     "metadata": {},
     "output_type": "execute_result"
    }
   ],
   "source": [
    "\"\"\"\n",
    "plt.plot(k_range,k_scores)\n",
    "plt.xlabel('Value of K for KNN')\n",
    "plt.ylabel('Accuracy score for different K')\n",
    "plt.show()\n",
    "\"\"\""
   ]
  },
  {
   "cell_type": "markdown",
   "metadata": {},
   "source": [
    "\n",
    "# Ways to improve accuracy:"
   ]
  },
  {
   "cell_type": "markdown",
   "metadata": {},
   "source": [
    "<h3> Re-classifying rare occuring wines into 'others' </h3>"
   ]
  },
  {
   "cell_type": "markdown",
   "metadata": {},
   "source": [
    "We can see that the model is pretty accurate in predicting the wine labels using the given description. However, I believe that there must be ways to further improve this. For instance, some wine variety only have 1 occurence and it is impossible to predict what type of wine it is given its description. So I would like to analyze the number of different wine varieties that makes up only a few of the whole data of wine variety.\n",
    "\n",
    "Additionally, if I were to classify them into 'others' especially for wines that have very little occurence, I believe that I would be able to improve the accuracy significantly. However, we would have to see if my hypothesis is right."
   ]
  },
  {
   "cell_type": "code",
   "execution_count": 56,
   "metadata": {},
   "outputs": [
    {
     "name": "stdout",
     "output_type": "stream",
     "text": [
      "Number of Different wines in train data: 676\n",
      "Number of Different wines in test data: 455\n"
     ]
    }
   ],
   "source": [
    "unique_y_train = set(y_train)\n",
    "unique_y_test = set(y_test)\n",
    "print('Number of Different wines in train data:',len(unique_y_train))\n",
    "print('Number of Different wines in test data:',len(unique_y_test))"
   ]
  },
  {
   "cell_type": "code",
   "execution_count": 57,
   "metadata": {
    "collapsed": true
   },
   "outputs": [],
   "source": [
    "not_in_test = []\n",
    "for wine in unique_y_test:\n",
    "    if wine not in unique_y_train:\n",
    "        not_in_test.append(wine)\n",
    "not_in_train = []\n",
    "for wine in unique_y_train:\n",
    "    if wine not in unique_y_test:\n",
    "        not_in_train.append(wine)"
   ]
  },
  {
   "cell_type": "code",
   "execution_count": 58,
   "metadata": {},
   "outputs": [
    {
     "name": "stdout",
     "output_type": "stream",
     "text": [
      "Wines in test data but not in train: 31\n",
      "Wines in train data but not in test: 252\n"
     ]
    }
   ],
   "source": [
    "print('Wines in test data but not in train:',len(not_in_test))\n",
    "print('Wines in train data but not in test:',len(not_in_train))"
   ]
  },
  {
   "cell_type": "markdown",
   "metadata": {},
   "source": [
    "It seems that we have 31 wine variety that are in test data but not in train data."
   ]
  },
  {
   "cell_type": "code",
   "execution_count": 59,
   "metadata": {
    "collapsed": true
   },
   "outputs": [],
   "source": [
    "#Group rare wines into a category called 'other' based data before splitting\n",
    "y_new = description_wine.groupby('variety').agg('count').reset_index()\n",
    "y_new.columns = [['variety','Count']]\n",
    "y_new['percent_of_total'] = y_new.Count/sum(y_new.Count)*100"
   ]
  },
  {
   "cell_type": "code",
   "execution_count": 60,
   "metadata": {},
   "outputs": [
    {
     "data": {
      "text/plain": [
       "0.14144271570014177"
      ]
     },
     "execution_count": 60,
     "metadata": {},
     "output_type": "execute_result"
    }
   ],
   "source": [
    "np.mean(y_new['percent_of_total'])"
   ]
  },
  {
   "cell_type": "markdown",
   "metadata": {},
   "source": [
    "We can see that the average wine makes up 0.14% of the whole data. Let's try to use 0.1% as a threshold"
   ]
  },
  {
   "cell_type": "code",
   "execution_count": 61,
   "metadata": {},
   "outputs": [
    {
     "name": "stdout",
     "output_type": "stream",
     "text": [
      "0.931907231105\n"
     ]
    }
   ],
   "source": [
    "no_wines = 0\n",
    "for idx,wine in y_new.iterrows():\n",
    "    if wine.percent_of_total>=0.1:\n",
    "        no_wines += wine.Count\n",
    "print(no_wines/sum(y_new.Count))"
   ]
  },
  {
   "cell_type": "code",
   "execution_count": 62,
   "metadata": {},
   "outputs": [
    {
     "name": "stdout",
     "output_type": "stream",
     "text": [
      "Number of Common Wines: 80\n"
     ]
    }
   ],
   "source": [
    "common = []\n",
    "for idx,wine in y_new.iterrows():\n",
    "    if wine.percent_of_total >=0.1:\n",
    "        common.append(wine.variety)\n",
    "print('Number of Common Wines:',len(common))"
   ]
  },
  {
   "cell_type": "code",
   "execution_count": 63,
   "metadata": {},
   "outputs": [
    {
     "name": "stdout",
     "output_type": "stream",
     "text": [
      "Number of rare wines: 627\n"
     ]
    }
   ],
   "source": [
    "rare = []\n",
    "for idx,wine in y_new.iterrows():\n",
    "    if wine.percent_of_total <0.1:\n",
    "        rare.append(wine.variety)\n",
    "print('Number of rare wines:',len(rare))"
   ]
  },
  {
   "cell_type": "markdown",
   "metadata": {},
   "source": [
    "Based on our analysis, it seems that there are only 80 wines where each wine makes up at least 0.1% of the total data while the other 627 are considered rare!\n",
    "\n",
    "This means that our model's accuracy of 61% using Logistic Regression should be pretty good already. Let's try reclassifying wines that appear less than 0.1% in the data into 'others' and see how well our model predicts this."
   ]
  },
  {
   "cell_type": "code",
   "execution_count": 64,
   "metadata": {},
   "outputs": [
    {
     "name": "stderr",
     "output_type": "stream",
     "text": [
      "/anaconda/lib/python3.6/site-packages/ipykernel_launcher.py:4: SettingWithCopyWarning: \n",
      "A value is trying to be set on a copy of a slice from a DataFrame\n",
      "\n",
      "See the caveats in the documentation: http://pandas.pydata.org/pandas-docs/stable/indexing.html#indexing-view-versus-copy\n",
      "  after removing the cwd from sys.path.\n"
     ]
    }
   ],
   "source": [
    "y_new_2 = y_new.copy()\n",
    "for idx,wine in y_new_2.iterrows():\n",
    "    if wine.percent_of_total < 0.1:\n",
    "        y_new_2.variety[idx] = 'others'"
   ]
  },
  {
   "cell_type": "code",
   "execution_count": 65,
   "metadata": {},
   "outputs": [],
   "source": [
    "y_new_2 = y_new_2.groupby('variety').sum().reset_index()"
   ]
  },
  {
   "cell_type": "code",
   "execution_count": 66,
   "metadata": {},
   "outputs": [
    {
     "data": {
      "text/html": [
       "<div>\n",
       "<style>\n",
       "    .dataframe thead tr:only-child th {\n",
       "        text-align: right;\n",
       "    }\n",
       "\n",
       "    .dataframe thead th {\n",
       "        text-align: left;\n",
       "    }\n",
       "\n",
       "    .dataframe tbody tr th {\n",
       "        vertical-align: top;\n",
       "    }\n",
       "</style>\n",
       "<table border=\"1\" class=\"dataframe\">\n",
       "  <thead>\n",
       "    <tr style=\"text-align: right;\">\n",
       "      <th></th>\n",
       "      <th>variety</th>\n",
       "      <th>Count</th>\n",
       "      <th>percent_of_total</th>\n",
       "    </tr>\n",
       "  </thead>\n",
       "  <tbody>\n",
       "    <tr>\n",
       "      <th>0</th>\n",
       "      <td>Aglianico</td>\n",
       "      <td>339</td>\n",
       "      <td>0.282608</td>\n",
       "    </tr>\n",
       "    <tr>\n",
       "      <th>1</th>\n",
       "      <td>Albariño</td>\n",
       "      <td>434</td>\n",
       "      <td>0.361805</td>\n",
       "    </tr>\n",
       "  </tbody>\n",
       "</table>\n",
       "</div>"
      ],
      "text/plain": [
       "     variety  Count  percent_of_total\n",
       "0  Aglianico    339          0.282608\n",
       "1   Albariño    434          0.361805"
      ]
     },
     "execution_count": 66,
     "metadata": {},
     "output_type": "execute_result"
    }
   ],
   "source": [
    "y_new_2.head(2)"
   ]
  },
  {
   "cell_type": "code",
   "execution_count": 67,
   "metadata": {},
   "outputs": [],
   "source": [
    "#replace rare wines to others in y_train and y_test:\n",
    "y_train_2 = pd.DataFrame(y_train)\n",
    "y_test_2 = pd.DataFrame(y_test)\n",
    "\n",
    "for idx,wine in y_train_2.iterrows():\n",
    "    if wine.variety in rare:\n",
    "        wine.variety = 'others'\n",
    "        \n",
    "for idx,wine in y_test_2.iterrows():\n",
    "    if wine.variety in rare:\n",
    "        wine.variety = 'others'"
   ]
  },
  {
   "cell_type": "code",
   "execution_count": 68,
   "metadata": {
    "collapsed": true
   },
   "outputs": [],
   "source": [
    "y_test_2_list = []\n",
    "y_train_2_list = []\n",
    "for i in y_test_2.values.tolist():\n",
    "    y_test_2_list.append(i[0])\n",
    "for i in y_train_2.values.tolist():\n",
    "    y_train_2_list.append(i[0])"
   ]
  },
  {
   "cell_type": "code",
   "execution_count": 69,
   "metadata": {},
   "outputs": [],
   "source": [
    "#USE DUMMY CLASSIFIER\n",
    "dummy_2 = DummyClassifier()\n",
    "dummy_2.fit(x_train_data,y_train_2_list)\n",
    "dummy_predict_2 = dummy.predict(x_test_data)\n",
    "dummy_actual_vs_pred = pd.DataFrame()\n",
    "dummy_actual_vs_pred['predicted'] = dummy_predict_2\n",
    "dummy_actual_vs_pred['actual'] = y_test_2_list"
   ]
  },
  {
   "cell_type": "code",
   "execution_count": 70,
   "metadata": {},
   "outputs": [
    {
     "name": "stdout",
     "output_type": "stream",
     "text": [
      "new accuracy score for dummy: 0.0422658496936\n"
     ]
    },
    {
     "data": {
      "text/html": [
       "<div>\n",
       "<style>\n",
       "    .dataframe thead tr:only-child th {\n",
       "        text-align: right;\n",
       "    }\n",
       "\n",
       "    .dataframe thead th {\n",
       "        text-align: left;\n",
       "    }\n",
       "\n",
       "    .dataframe tbody tr th {\n",
       "        vertical-align: top;\n",
       "    }\n",
       "</style>\n",
       "<table border=\"1\" class=\"dataframe\">\n",
       "  <thead>\n",
       "    <tr style=\"text-align: right;\">\n",
       "      <th></th>\n",
       "      <th>predicted</th>\n",
       "      <th>actual</th>\n",
       "    </tr>\n",
       "  </thead>\n",
       "  <tbody>\n",
       "    <tr>\n",
       "      <th>0</th>\n",
       "      <td>Pinot Noir</td>\n",
       "      <td>Red Blend</td>\n",
       "    </tr>\n",
       "    <tr>\n",
       "      <th>1</th>\n",
       "      <td>Bordeaux-style White Blend</td>\n",
       "      <td>Red Blend</td>\n",
       "    </tr>\n",
       "    <tr>\n",
       "      <th>2</th>\n",
       "      <td>Shiraz</td>\n",
       "      <td>Chardonnay</td>\n",
       "    </tr>\n",
       "    <tr>\n",
       "      <th>3</th>\n",
       "      <td>Syrah</td>\n",
       "      <td>Chardonnay</td>\n",
       "    </tr>\n",
       "    <tr>\n",
       "      <th>4</th>\n",
       "      <td>Cabernet Sauvignon</td>\n",
       "      <td>Pinot Noir</td>\n",
       "    </tr>\n",
       "  </tbody>\n",
       "</table>\n",
       "</div>"
      ],
      "text/plain": [
       "                    predicted      actual\n",
       "0                  Pinot Noir   Red Blend\n",
       "1  Bordeaux-style White Blend   Red Blend\n",
       "2                      Shiraz  Chardonnay\n",
       "3                       Syrah  Chardonnay\n",
       "4          Cabernet Sauvignon  Pinot Noir"
      ]
     },
     "execution_count": 70,
     "metadata": {},
     "output_type": "execute_result"
    }
   ],
   "source": [
    "print('new accuracy score for dummy:',accuracy_score(dummy_actual_vs_pred['predicted'],\n",
    "                                                    dummy_actual_vs_pred['actual']))\n",
    "dummy_actual_vs_pred.head()"
   ]
  },
  {
   "cell_type": "markdown",
   "metadata": {},
   "source": [
    "The accuracy of the dummy classifier even after re-classifying rare wines into 'others' still show a low number, 4%, which is not very different from before classifying into 'others'."
   ]
  },
  {
   "cell_type": "code",
   "execution_count": 71,
   "metadata": {
    "collapsed": true
   },
   "outputs": [],
   "source": [
    "from sklearn.naive_bayes import MultinomialNB\n",
    "clf_2 = MultinomialNB().fit(x_train_data,y_train_2_list)\n",
    "predicted_NB = clf_2.predict(x_test_data)\n",
    "NB_actual_vs_pred = pd.DataFrame()\n",
    "NB_actual_vs_pred['predicted'] = predicted_NB\n",
    "NB_actual_vs_pred['actual'] = y_test_2_list"
   ]
  },
  {
   "cell_type": "code",
   "execution_count": null,
   "metadata": {},
   "outputs": [
    {
     "name": "stdout",
     "output_type": "stream",
     "text": [
      "accuracy score using Naive Bayes: 0.493226626652\n"
     ]
    },
    {
     "data": {
      "text/html": [
       "<div>\n",
       "<style>\n",
       "    .dataframe thead tr:only-child th {\n",
       "        text-align: right;\n",
       "    }\n",
       "\n",
       "    .dataframe thead th {\n",
       "        text-align: left;\n",
       "    }\n",
       "\n",
       "    .dataframe tbody tr th {\n",
       "        vertical-align: top;\n",
       "    }\n",
       "</style>\n",
       "<table border=\"1\" class=\"dataframe\">\n",
       "  <thead>\n",
       "    <tr style=\"text-align: right;\">\n",
       "      <th></th>\n",
       "      <th>predicted</th>\n",
       "      <th>actual</th>\n",
       "    </tr>\n",
       "  </thead>\n",
       "  <tbody>\n",
       "    <tr>\n",
       "      <th>0</th>\n",
       "      <td>Red Blend</td>\n",
       "      <td>Red Blend</td>\n",
       "    </tr>\n",
       "    <tr>\n",
       "      <th>1</th>\n",
       "      <td>Red Blend</td>\n",
       "      <td>Red Blend</td>\n",
       "    </tr>\n",
       "    <tr>\n",
       "      <th>2</th>\n",
       "      <td>Sauvignon Blanc</td>\n",
       "      <td>Chardonnay</td>\n",
       "    </tr>\n",
       "    <tr>\n",
       "      <th>3</th>\n",
       "      <td>Chardonnay</td>\n",
       "      <td>Chardonnay</td>\n",
       "    </tr>\n",
       "    <tr>\n",
       "      <th>4</th>\n",
       "      <td>Pinot Noir</td>\n",
       "      <td>Pinot Noir</td>\n",
       "    </tr>\n",
       "  </tbody>\n",
       "</table>\n",
       "</div>"
      ],
      "text/plain": [
       "         predicted      actual\n",
       "0        Red Blend   Red Blend\n",
       "1        Red Blend   Red Blend\n",
       "2  Sauvignon Blanc  Chardonnay\n",
       "3       Chardonnay  Chardonnay\n",
       "4       Pinot Noir  Pinot Noir"
      ]
     },
     "execution_count": 72,
     "metadata": {},
     "output_type": "execute_result"
    }
   ],
   "source": [
    "print('accuracy score using Naive Bayes:',accuracy_score(NB_actual_vs_pred.predicted,NB_actual_vs_pred.actual))\n",
    "NB_actual_vs_pred.head()"
   ]
  },
  {
   "cell_type": "markdown",
   "metadata": {},
   "source": [
    "The accuracy score using Naive Bayes after re-classifying rare wines into 'others' is also only better by 1%. This shows that re-classifying wine variety into 'others' does not improve the model's accuracy in predicting wine variety. This may be because the the description used in describing the wines in 'others' are very different from one another, causing the model hard to learn it."
   ]
  },
  {
   "cell_type": "code",
   "execution_count": null,
   "metadata": {
    "collapsed": true
   },
   "outputs": [],
   "source": [
    "#Logistic Regression:\n",
    "C = [0.01,0.1,1,10,100]\n",
    "logistic_2 = LogisticRegression()\n",
    "logistic_2.fit(x_train_data,y_train)\n",
    "predicted_logistic_2 = logistic_2.predict(x_test_data)\n",
    "logistic_actual_vs_pred = pd.DataFrame()\n",
    "logistic_actual_vs_pred['predicted'] = predicted_logistic_2\n",
    "logistic_actual_vs_pred['actual'] = y_test_2_list"
   ]
  },
  {
   "cell_type": "code",
   "execution_count": null,
   "metadata": {},
   "outputs": [],
   "source": [
    "print('accuracy score using Logistic Regression:',accuracy_score(logistic_actual_vs_pred.predicted,\n",
    "                                                                logistic_actual_vs_pred.actual))\n",
    "logistic_actual_vs_pred.head()"
   ]
  },
  {
   "cell_type": "markdown",
   "metadata": {},
   "source": [
    "The accuracy score using Logistic Regression after re-classifying rare wines into 'others' turns out to be slightly worse than before, which is a drop of 1% in accuracy. This shows that re-classifying does not help."
   ]
  },
  {
   "cell_type": "markdown",
   "metadata": {},
   "source": [
    "<h3> Using Cross Validation instead of splitting into train and test data </h3>"
   ]
  },
  {
   "cell_type": "markdown",
   "metadata": {},
   "source": [
    "next steps:\n",
    "    - try using word2vec or doc2vec vectorizer\n",
    "    - figure out which vectorizer results in most accurate prediction"
   ]
  },
  {
   "cell_type": "code",
   "execution_count": null,
   "metadata": {
    "collapsed": true
   },
   "outputs": [],
   "source": []
  }
 ],
 "metadata": {
  "kernelspec": {
   "display_name": "Python 3",
   "language": "python",
   "name": "python3"
  },
  "language_info": {
   "codemirror_mode": {
    "name": "ipython",
    "version": 3
   },
   "file_extension": ".py",
   "mimetype": "text/x-python",
   "name": "python",
   "nbconvert_exporter": "python",
   "pygments_lexer": "ipython3",
   "version": "3.6.1"
  }
 },
 "nbformat": 4,
 "nbformat_minor": 2
}
